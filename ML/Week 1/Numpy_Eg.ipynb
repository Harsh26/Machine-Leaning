{
 "cells": [
  {
   "cell_type": "code",
   "execution_count": 2,
   "id": "f8125bd8",
   "metadata": {},
   "outputs": [],
   "source": [
    "import numpy as np"
   ]
  },
  {
   "cell_type": "code",
   "execution_count": 3,
   "id": "6f9c93ea",
   "metadata": {},
   "outputs": [],
   "source": [
    "a = np.array([1,2,3])"
   ]
  },
  {
   "cell_type": "code",
   "execution_count": 4,
   "id": "ff97b7d1",
   "metadata": {},
   "outputs": [
    {
     "name": "stdout",
     "output_type": "stream",
     "text": [
      "[1 2 3]\n"
     ]
    }
   ],
   "source": [
    "print(a)"
   ]
  },
  {
   "cell_type": "code",
   "execution_count": 5,
   "id": "808bdbcd",
   "metadata": {},
   "outputs": [
    {
     "name": "stdout",
     "output_type": "stream",
     "text": [
      "[[1.  2.  3. ]\n",
      " [5.  2.  3.2]]\n"
     ]
    }
   ],
   "source": [
    "b = np.array([[1,2,3],[5.0,2.0,3.2]])\n",
    "print(b)"
   ]
  },
  {
   "cell_type": "code",
   "execution_count": 6,
   "id": "2c9c61f6",
   "metadata": {},
   "outputs": [
    {
     "name": "stdout",
     "output_type": "stream",
     "text": [
      "1\n",
      "2\n"
     ]
    }
   ],
   "source": [
    "# dimension of the matrix 1D, 2D,...\n",
    "print(a.ndim)\n",
    "print(b.ndim)"
   ]
  },
  {
   "cell_type": "code",
   "execution_count": 7,
   "id": "348c2f2f",
   "metadata": {},
   "outputs": [
    {
     "name": "stdout",
     "output_type": "stream",
     "text": [
      "(3,)\n",
      "(2, 3)\n"
     ]
    }
   ],
   "source": [
    "# shape of the matrix \n",
    "print(a.shape)\n",
    "print(b.shape)"
   ]
  },
  {
   "cell_type": "code",
   "execution_count": 8,
   "id": "31399f84",
   "metadata": {},
   "outputs": [
    {
     "name": "stdout",
     "output_type": "stream",
     "text": [
      "int32\n",
      "float64\n"
     ]
    }
   ],
   "source": [
    "# data type of the matrix\n",
    "print(a.dtype)\n",
    "print(b.dtype)"
   ]
  },
  {
   "cell_type": "code",
   "execution_count": 9,
   "id": "abeded61",
   "metadata": {},
   "outputs": [
    {
     "name": "stdout",
     "output_type": "stream",
     "text": [
      "12\n",
      "48\n"
     ]
    }
   ],
   "source": [
    "# number of bytes taken by matrix\n",
    "print(a.nbytes)\n",
    "print(b.nbytes)"
   ]
  },
  {
   "cell_type": "code",
   "execution_count": 10,
   "id": "e765b322",
   "metadata": {},
   "outputs": [
    {
     "name": "stdout",
     "output_type": "stream",
     "text": [
      "3.2\n"
     ]
    }
   ],
   "source": [
    "# printing specific element\n",
    "print(b[1,2])"
   ]
  },
  {
   "cell_type": "code",
   "execution_count": 11,
   "id": "10fc4c50",
   "metadata": {},
   "outputs": [
    {
     "name": "stdout",
     "output_type": "stream",
     "text": [
      "[1. 2. 3.]\n",
      "[2. 2.]\n"
     ]
    }
   ],
   "source": [
    "# printing a full row/col\n",
    "print(b[0,:])\n",
    "print(b[:,1])"
   ]
  },
  {
   "cell_type": "code",
   "execution_count": 12,
   "id": "b56abf35",
   "metadata": {},
   "outputs": [
    {
     "name": "stdout",
     "output_type": "stream",
     "text": [
      "[[1.  2.  3. ]\n",
      " [5.  2.  3.2]]\n",
      "[[7.  2.  3. ]\n",
      " [5.  2.  3.2]]\n"
     ]
    }
   ],
   "source": [
    "# changing a number in np array\n",
    "print(b)\n",
    "b[0, 0] = 7\n",
    "print(b)"
   ]
  },
  {
   "cell_type": "code",
   "execution_count": 13,
   "id": "18524e30",
   "metadata": {},
   "outputs": [
    {
     "data": {
      "text/plain": [
       "array([[0., 0.],\n",
       "       [0., 0.]])"
      ]
     },
     "execution_count": 13,
     "metadata": {},
     "output_type": "execute_result"
    }
   ],
   "source": [
    "# Zero matrix\n",
    "np.zeros([2,2])"
   ]
  },
  {
   "cell_type": "code",
   "execution_count": 14,
   "id": "21d0d067",
   "metadata": {},
   "outputs": [
    {
     "data": {
      "text/plain": [
       "array([[1., 1., 1.],\n",
       "       [1., 1., 1.]])"
      ]
     },
     "execution_count": 14,
     "metadata": {},
     "output_type": "execute_result"
    }
   ],
   "source": [
    "# Ones matrix\n",
    "np.ones([2,3])"
   ]
  },
  {
   "cell_type": "code",
   "execution_count": 15,
   "id": "9db61621",
   "metadata": {},
   "outputs": [
    {
     "data": {
      "text/plain": [
       "array([[7, 7],\n",
       "       [7, 7]])"
      ]
     },
     "execution_count": 15,
     "metadata": {},
     "output_type": "execute_result"
    }
   ],
   "source": [
    "# Any other matrix\n",
    "np.full([2,2], 7)"
   ]
  },
  {
   "cell_type": "code",
   "execution_count": 16,
   "id": "11e49422",
   "metadata": {},
   "outputs": [
    {
     "data": {
      "text/plain": [
       "array([[0.6000945 , 0.78480378, 0.28942694],\n",
       "       [0.51291539, 0.87817872, 0.84993257],\n",
       "       [0.81769018, 0.34587853, 0.35695392],\n",
       "       [0.97129629, 0.34070941, 0.13361595],\n",
       "       [0.17012212, 0.10678441, 0.94142894]])"
      ]
     },
     "execution_count": 16,
     "metadata": {},
     "output_type": "execute_result"
    }
   ],
   "source": [
    "#Random number matrix (b/w 0,1)\n",
    "np.random.rand(5,3)"
   ]
  },
  {
   "cell_type": "code",
   "execution_count": 17,
   "id": "31a504c9",
   "metadata": {},
   "outputs": [
    {
     "data": {
      "text/plain": [
       "array([[6, 4, 4],\n",
       "       [2, 2, 1],\n",
       "       [3, 1, 4]])"
      ]
     },
     "execution_count": 17,
     "metadata": {},
     "output_type": "execute_result"
    }
   ],
   "source": [
    "# Random number between 0 and n\n",
    "np.random.randint(7, size=(3,3))"
   ]
  },
  {
   "cell_type": "code",
   "execution_count": 18,
   "id": "641e7fbc",
   "metadata": {},
   "outputs": [
    {
     "data": {
      "text/plain": [
       "array([[5, 6, 5],\n",
       "       [5, 6, 5],\n",
       "       [4, 4, 6]])"
      ]
     },
     "execution_count": 18,
     "metadata": {},
     "output_type": "execute_result"
    }
   ],
   "source": [
    "# Random number between m and n\n",
    "np.random.randint(4, 7, size=(3,3))"
   ]
  },
  {
   "cell_type": "code",
   "execution_count": 19,
   "id": "e435a2c5",
   "metadata": {},
   "outputs": [
    {
     "data": {
      "text/plain": [
       "array([[1., 0., 0., 0.],\n",
       "       [0., 1., 0., 0.],\n",
       "       [0., 0., 1., 0.],\n",
       "       [0., 0., 0., 1.]])"
      ]
     },
     "execution_count": 19,
     "metadata": {},
     "output_type": "execute_result"
    }
   ],
   "source": [
    "np.identity(4)"
   ]
  },
  {
   "cell_type": "code",
   "execution_count": 20,
   "id": "698a05df",
   "metadata": {},
   "outputs": [
    {
     "name": "stdout",
     "output_type": "stream",
     "text": [
      "[3 4 5]\n",
      "[2 4 5]\n"
     ]
    }
   ],
   "source": [
    "c = np.array([3,4,5])\n",
    "d = c.copy()\n",
    "d[0] = 2\n",
    "print(c)\n",
    "print(d)"
   ]
  },
  {
   "cell_type": "code",
   "execution_count": 21,
   "id": "bb8f9342",
   "metadata": {},
   "outputs": [
    {
     "name": "stdout",
     "output_type": "stream",
     "text": [
      "[6 7 8]\n"
     ]
    }
   ],
   "source": [
    "e = np.array([6,7,8])\n",
    "print(e)"
   ]
  },
  {
   "cell_type": "code",
   "execution_count": 22,
   "id": "1d407c64",
   "metadata": {},
   "outputs": [
    {
     "data": {
      "text/plain": [
       "array([4, 5, 6])"
      ]
     },
     "execution_count": 22,
     "metadata": {},
     "output_type": "execute_result"
    }
   ],
   "source": [
    "e - 2"
   ]
  },
  {
   "cell_type": "code",
   "execution_count": 23,
   "id": "d1de2cb2",
   "metadata": {},
   "outputs": [
    {
     "data": {
      "text/plain": [
       "array([12, 14, 16])"
      ]
     },
     "execution_count": 23,
     "metadata": {},
     "output_type": "execute_result"
    }
   ],
   "source": [
    "e * 2"
   ]
  },
  {
   "cell_type": "code",
   "execution_count": 24,
   "id": "7649c658",
   "metadata": {},
   "outputs": [
    {
     "data": {
      "text/plain": [
       "array([3. , 3.5, 4. ])"
      ]
     },
     "execution_count": 24,
     "metadata": {},
     "output_type": "execute_result"
    }
   ],
   "source": [
    "e / 2"
   ]
  },
  {
   "cell_type": "code",
   "execution_count": 25,
   "id": "330b29b6",
   "metadata": {},
   "outputs": [
    {
     "name": "stdout",
     "output_type": "stream",
     "text": [
      "[10 10 10]\n"
     ]
    }
   ],
   "source": [
    "f = np.array([4,3,2])\n",
    "print(e + f)"
   ]
  },
  {
   "cell_type": "code",
   "execution_count": 26,
   "id": "89dfee1e",
   "metadata": {},
   "outputs": [
    {
     "data": {
      "text/plain": [
       "array([-0.7568025 ,  0.14112001,  0.90929743])"
      ]
     },
     "execution_count": 26,
     "metadata": {},
     "output_type": "execute_result"
    }
   ],
   "source": [
    "np.sin(f)"
   ]
  },
  {
   "cell_type": "markdown",
   "id": "666153fa",
   "metadata": {},
   "source": [
    "# Linear Algebra"
   ]
  },
  {
   "cell_type": "code",
   "execution_count": 27,
   "id": "2dc505a2",
   "metadata": {},
   "outputs": [
    {
     "name": "stdout",
     "output_type": "stream",
     "text": [
      "[[1. 1. 1.]\n",
      " [1. 1. 1.]]\n",
      "[[2 2]\n",
      " [2 2]\n",
      " [2 2]]\n",
      "[[6. 6.]\n",
      " [6. 6.]]\n"
     ]
    }
   ],
   "source": [
    "# Matrix Multiplication\n",
    "g = np.ones([2,3])\n",
    "print(g)\n",
    "\n",
    "h = np.full([3,2], 2)\n",
    "print(h)\n",
    "\n",
    "# g * h wont work since it means element wise multiplication\n",
    "\n",
    "print(np.matmul(g, h))"
   ]
  },
  {
   "cell_type": "code",
   "execution_count": 28,
   "id": "00c60e2c",
   "metadata": {},
   "outputs": [
    {
     "name": "stdout",
     "output_type": "stream",
     "text": [
      "[[1. 0. 0.]\n",
      " [0. 1. 0.]\n",
      " [0. 0. 1.]]\n",
      "1.0\n"
     ]
    }
   ],
   "source": [
    "# Determinant\n",
    "i = np.identity(3)\n",
    "print(i)\n",
    "\n",
    "print(np.linalg.det(i))"
   ]
  },
  {
   "cell_type": "markdown",
   "id": "a982424a",
   "metadata": {},
   "source": [
    "# Reorganizing arrays"
   ]
  },
  {
   "cell_type": "code",
   "execution_count": 29,
   "id": "42688aa8",
   "metadata": {},
   "outputs": [
    {
     "name": "stdout",
     "output_type": "stream",
     "text": [
      "[1 2 3 4 5 6]\n",
      "[[1 2]\n",
      " [3 4]\n",
      " [5 6]]\n"
     ]
    }
   ],
   "source": [
    "# Reshaping\n",
    "# Number of elements must be the same \n",
    "before = np.array([1,2,3,4,5,6])\n",
    "print(before)\n",
    "\n",
    "after = before.reshape(3,2)\n",
    "print(after)"
   ]
  },
  {
   "cell_type": "code",
   "execution_count": 30,
   "id": "9eb603b6",
   "metadata": {},
   "outputs": [
    {
     "name": "stdout",
     "output_type": "stream",
     "text": [
      "[[1 2 3 4]\n",
      " [5 6 7 8]]\n"
     ]
    }
   ],
   "source": [
    "# Vertically stacking vectors\n",
    "\n",
    "v1 = np.array([1,2,3,4])\n",
    "v2 = np.array([5,6,7,8])\n",
    "\n",
    "v3 = np.vstack([v1,v2])\n",
    "print(v3)"
   ]
  },
  {
   "cell_type": "code",
   "execution_count": 31,
   "id": "93c39fae",
   "metadata": {},
   "outputs": [
    {
     "name": "stdout",
     "output_type": "stream",
     "text": [
      "[1 2 3 4 5 6 7 8]\n"
     ]
    }
   ],
   "source": [
    "v4 = np.hstack([v1,v2])\n",
    "print(v4)"
   ]
  },
  {
   "cell_type": "markdown",
   "id": "fdedfd42",
   "metadata": {},
   "source": [
    "# Get data from a text file using Numpy\n"
   ]
  },
  {
   "cell_type": "code",
   "execution_count": 32,
   "id": "6d92af9b",
   "metadata": {},
   "outputs": [
    {
     "data": {
      "text/plain": [
       "array([[1., 2., 3., 4., 5., 4.],\n",
       "       [6., 3., 3., 5., 6., 5.],\n",
       "       [2., 2., 1., 1., 3., 2.]])"
      ]
     },
     "execution_count": 32,
     "metadata": {},
     "output_type": "execute_result"
    }
   ],
   "source": [
    "np.genfromtxt('data_numpy.txt', delimiter = ',')"
   ]
  },
  {
   "cell_type": "code",
   "execution_count": 33,
   "id": "fc6d4224",
   "metadata": {},
   "outputs": [
    {
     "data": {
      "text/plain": [
       "array([ 6.,  7.,  8.,  9., 10., 11., 12., 13., 14., 15.])"
      ]
     },
     "execution_count": 33,
     "metadata": {},
     "output_type": "execute_result"
    }
   ],
   "source": [
    "# The linspace function is especially useful if we want to create a particular number of evenly spaced values \n",
    "# in a specified half-open interval\n",
    "\n",
    "np.linspace(6., 15., num=10)\n"
   ]
  },
  {
   "cell_type": "code",
   "execution_count": 34,
   "id": "7ff9920c",
   "metadata": {},
   "outputs": [
    {
     "data": {
      "text/plain": [
       "array([5, 7, 9])"
      ]
     },
     "execution_count": 34,
     "metadata": {},
     "output_type": "execute_result"
    }
   ],
   "source": [
    "# Column-wise sum\n",
    "\n",
    "ary = np.array([[1, 2, 3], \n",
    "                [4, 5, 6]]) # rolling over the 1st axis, axis 0\n",
    "\n",
    "np.add.reduce(ary, axis=0)"
   ]
  },
  {
   "cell_type": "code",
   "execution_count": 35,
   "id": "6045375c",
   "metadata": {},
   "outputs": [
    {
     "data": {
      "text/plain": [
       "array([ 6, 15])"
      ]
     },
     "execution_count": 35,
     "metadata": {},
     "output_type": "execute_result"
    }
   ],
   "source": [
    "# Row-wise sum\n",
    "np.add.reduce(ary, axis=1) # row sums"
   ]
  },
  {
   "cell_type": "code",
   "execution_count": 36,
   "id": "dda0f4e1",
   "metadata": {},
   "outputs": [
    {
     "data": {
      "text/plain": [
       "array([5, 7, 9])"
      ]
     },
     "execution_count": 36,
     "metadata": {},
     "output_type": "execute_result"
    }
   ],
   "source": [
    "ary.sum(axis=0) # column sums"
   ]
  },
  {
   "cell_type": "code",
   "execution_count": 37,
   "id": "84ec58b4",
   "metadata": {},
   "outputs": [
    {
     "data": {
      "text/plain": [
       "array([ 6, 15])"
      ]
     },
     "execution_count": 37,
     "metadata": {},
     "output_type": "execute_result"
    }
   ],
   "source": [
    "ary.sum(axis=1) # row sums"
   ]
  },
  {
   "cell_type": "code",
   "execution_count": 38,
   "id": "ca5bbdac",
   "metadata": {},
   "outputs": [
    {
     "data": {
      "text/plain": [
       "21"
      ]
     },
     "execution_count": 38,
     "metadata": {},
     "output_type": "execute_result"
    }
   ],
   "source": [
    "ary.sum() # sum of entire matrix"
   ]
  },
  {
   "cell_type": "code",
   "execution_count": 39,
   "id": "626fb5e7",
   "metadata": {},
   "outputs": [
    {
     "data": {
      "text/plain": [
       "array([[ 5,  7,  9],\n",
       "       [11, 13, 15]])"
      ]
     },
     "execution_count": 39,
     "metadata": {},
     "output_type": "execute_result"
    }
   ],
   "source": [
    "# Addition of 1D array to a 2D array\n",
    "ary2 = np.array([[4, 5, 6], \n",
    "                 [7, 8, 9]])\n",
    "\n",
    "ary2 + ary"
   ]
  },
  {
   "cell_type": "code",
   "execution_count": 40,
   "id": "181d2b5e",
   "metadata": {},
   "outputs": [],
   "source": [
    "# Please note min/max function is also available and is same as sum we took above.."
   ]
  },
  {
   "cell_type": "code",
   "execution_count": 41,
   "id": "ea5a89f4",
   "metadata": {},
   "outputs": [
    {
     "name": "stdout",
     "output_type": "stream",
     "text": [
      "20\n"
     ]
    }
   ],
   "source": [
    "a = np.array([1,2,3])  # or a = [1,2,3]\n",
    "b = np.array([2,3,4])  # or b = [2,3,4]\n",
    "z = np.dot(a,b)\n",
    "print(z)"
   ]
  },
  {
   "cell_type": "code",
   "execution_count": 42,
   "id": "50652529",
   "metadata": {},
   "outputs": [
    {
     "name": "stdout",
     "output_type": "stream",
     "text": [
      "[[-1 -1 25]\n",
      " [ 6 10 22]\n",
      " [31 27 19]]\n"
     ]
    }
   ],
   "source": [
    "# 2D arrays or matrices\n",
    "a = [[1,2,3],[2,0,3],[7,-5,1]]\n",
    "b = [[3,-1,5],[-2,-6,4], [0,4,4]]\n",
    "z = np.dot(a,b)\n",
    "print(z) "
   ]
  },
  {
   "cell_type": "code",
   "execution_count": 43,
   "id": "d69ab26a",
   "metadata": {},
   "outputs": [
    {
     "name": "stdout",
     "output_type": "stream",
     "text": [
      "[[-1 -1 25]\n",
      " [ 6 10 22]\n",
      " [31 27 19]]\n"
     ]
    }
   ],
   "source": [
    "# convert lists into NumPy arrays\n",
    "a = np.array(a)\n",
    "b = np.array(b)\n",
    "z = a.dot(b)\n",
    "print(z) "
   ]
  },
  {
   "cell_type": "code",
   "execution_count": 44,
   "id": "dcfa4c25",
   "metadata": {},
   "outputs": [
    {
     "name": "stdout",
     "output_type": "stream",
     "text": [
      "[[-14097320 -13931504 -13540660  -9566874 -14360177]\n",
      " [  9072267   9467728   8948016   6594079   9191415]\n",
      " [  3881868   3374450   2740731   1615644   4071057]\n",
      " [  6975880   7210191   7346656   5422049   6979682]\n",
      " [  5517765   5906340   6149395   4801424   5467940]]\n"
     ]
    }
   ],
   "source": [
    "# matrices with random integers: entries ranging from -4 to 4\n",
    "a = np.random.randint(-4,4,(5,5))\n",
    "b = np.random.randint(-4,4,(5,1000))\n",
    "c = np.random.randint(-4,4,(1000,10))\n",
    "d = np.random.randint(-4,4,(10,2000))\n",
    "e = np.random.randint(-4,4,(2000,5))\n",
    "# Perform multiple matrix multiplication\n",
    "z = np.linalg.multi_dot([a,b,c,d,e])\n",
    "print(z)"
   ]
  },
  {
   "cell_type": "code",
   "execution_count": 45,
   "id": "8f3ae5f0",
   "metadata": {},
   "outputs": [],
   "source": [
    "# The multi_dot consumes around 9 ms compute time, whereas successive dot methods consume around 335 ms compute time to arrive at the same solution."
   ]
  },
  {
   "cell_type": "code",
   "execution_count": 46,
   "id": "f28b5485",
   "metadata": {},
   "outputs": [
    {
     "name": "stdout",
     "output_type": "stream",
     "text": [
      "[18 21]\n"
     ]
    }
   ],
   "source": [
    "# The inner product is the scalar multiplication of one vector (or matrix) and the transpose of another vector (or matrix).\n",
    "a = np.array([[1,2,3], [4,-1,0]])\n",
    "b = np.array([6,3,2])\n",
    "z = np.inner(a,b)\n",
    "print(z) "
   ]
  },
  {
   "cell_type": "code",
   "execution_count": 47,
   "id": "e135f9f6",
   "metadata": {},
   "outputs": [
    {
     "name": "stdout",
     "output_type": "stream",
     "text": [
      "[[ 6  3  2]\n",
      " [12  6  4]\n",
      " [18  9  6]\n",
      " [24 12  8]\n",
      " [30 15 10]]\n"
     ]
    }
   ],
   "source": [
    "#Outer product is the dot product of a column vector of size M*1 and a row vector of size 1*N. The resulting array is a matrix of size M*N.\n",
    "\n",
    "a = np.array([1,2,3,4,5])\n",
    "b = np.array([6,3,2])\n",
    "z = np.outer(a,b)\n",
    "print(z) "
   ]
  },
  {
   "cell_type": "code",
   "execution_count": 48,
   "id": "a03acef1",
   "metadata": {},
   "outputs": [
    {
     "name": "stdout",
     "output_type": "stream",
     "text": [
      "matrix \n",
      " [[0.21191095 0.15354349 0.25750409 0.22005654]\n",
      " [0.25513765 0.65093855 0.50138904 0.07762787]\n",
      " [0.82169086 0.13242923 0.06699381 0.02005025]\n",
      " [0.40743073 0.03962974 0.36740151 0.89688699]]\n",
      "\n",
      " matrix to the power 2\n",
      " [[0.38532753 0.17530677 0.22965324 0.26108051]\n",
      " [0.66376017 0.53237066 0.45418301 0.18635208]\n",
      " [0.27113026 0.2220351  0.28984198 0.2104247 ]\n",
      " [0.76375985 0.17255296 0.47891626 0.90450693]]\n",
      "\n",
      " matrix to the power 7\n",
      " [[0.97022071 0.46641079 0.66550327 0.78729409]\n",
      " [1.54403531 0.781834   1.06540888 1.19346085]\n",
      " [0.90450305 0.44313888 0.62161844 0.72122736]\n",
      " [2.34764626 1.0856984  1.60342146 1.96932955]]\n",
      "\n",
      " matrix inverse \n",
      " [[  0.7217655   -0.41281486   1.24291207  -0.16914503]\n",
      " [-11.22215143   3.93944181   0.48006132   2.40172067]\n",
      " [ 15.13607382  -3.10921562  -1.24391024  -3.41680682]\n",
      " [ -6.03237077   1.28712417  -0.0762758    2.4853469 ]]\n",
      "\n",
      " matrix cubic inverse \n",
      " [[ 107.68353438  -38.82343582   29.65158212  -30.16871814]\n",
      " [-576.00046365  170.36719562  -48.77786805  145.16196611]\n",
      " [ 623.48593351 -172.44679175   27.32349887 -154.57101599]\n",
      " [-317.83470867   93.01102225  -30.28375488   82.3713405 ]]\n"
     ]
    }
   ],
   "source": [
    "# Matrix Power is a general method to obtain either positive or negative powers of a given square matrix.\n",
    "\n",
    "a = np.random.random([4,4])\n",
    "# positive powers of matrix\n",
    "a_2 = np.linalg.matrix_power(a, 2)\n",
    "a_7 = np.linalg.matrix_power(a, 7)\n",
    "# inverse of matrix\n",
    "a_inv_1 = np.linalg.matrix_power(a, -1)\n",
    "a_inv_3 = np.linalg.matrix_power(a, -3)\n",
    "print('matrix \\n', a)\n",
    "print('\\n matrix to the power 2\\n', a_2)\n",
    "print('\\n matrix to the power 7\\n', a_7)\n",
    "print('\\n matrix inverse \\n', a_inv_1)\n",
    "print('\\n matrix cubic inverse \\n', a_inv_3)"
   ]
  },
  {
   "cell_type": "code",
   "execution_count": 53,
   "id": "9d38b28a",
   "metadata": {},
   "outputs": [
    {
     "name": "stdout",
     "output_type": "stream",
     "text": [
      "Matrix: \n",
      " [[6 6 6]\n",
      " [6 4 3]\n",
      " [4 6 6]]\n",
      "Eigen Values are:  [15.66589819+0.j          0.16705091+0.85912107j  0.16705091-0.85912107j]\n",
      "Eigen Vectors are:  [[ 0.65844086+0.j         -0.16299584+0.22284331j -0.16299584-0.22284331j]\n",
      " [ 0.48635659+0.j          0.71832303+0.j          0.71832303-0.j        ]\n",
      " [ 0.57438045+0.j         -0.59177352-0.23997781j -0.59177352+0.23997781j]]\n",
      "Only Eigen Values:  [15.66589819+0.j          0.16705091+0.85912107j  0.16705091-0.85912107j]\n"
     ]
    }
   ],
   "source": [
    "# Eigenvalues and Eigenvectors of a matrix can be determined as follows.\n",
    "\n",
    "a = np.random.randint(10, size=[3, 3])\n",
    "Eig_val, Eig_vec = np.linalg.eig(a)\n",
    "eigenvalues = np.linalg.eigvals(a)\n",
    "\n",
    "print('Matrix: \\n', a)\n",
    "print('Eigen Values are: ', Eig_val)\n",
    "print('Eigen Vectors are: ', Eig_vec)\n",
    "print('Only Eigen Values: ', eigenvalues) "
   ]
  },
  {
   "cell_type": "code",
   "execution_count": 54,
   "id": "419d9229",
   "metadata": {},
   "outputs": [
    {
     "name": "stdout",
     "output_type": "stream",
     "text": [
      "[[1. 0. 0. 0. 0.]\n",
      " [0. 1. 0. 0. 0.]\n",
      " [0. 0. 1. 0. 0.]\n",
      " [0. 0. 0. 1. 0.]\n",
      " [0. 0. 0. 0. 1.]]\n",
      "\n",
      "Trace of matrix is:  5.0\n"
     ]
    }
   ],
   "source": [
    "# Traces of matrix are sum of diagonal elements\n",
    "\n",
    "a = np.eye(5)\n",
    "print(a)\n",
    "z = np.trace(a)\n",
    "print('\\nTrace of matrix is: ',z)"
   ]
  },
  {
   "cell_type": "code",
   "execution_count": 56,
   "id": "592abcd1",
   "metadata": {},
   "outputs": [
    {
     "name": "stdout",
     "output_type": "stream",
     "text": [
      "Coefficient Matrix\n",
      "[[ 2 -1  3]\n",
      " [ 1 -3 -2]\n",
      " [ 3  2 -1]]\n",
      "\n",
      "Dependent Variable vector\n",
      "[ 9  0 -1]\n",
      "\n",
      "Solution\n",
      "[ 1. -1.  2.]\n"
     ]
    }
   ],
   "source": [
    "# Solving System of Equations\n",
    "\n",
    "# Coefficient Matrix\n",
    "# a = np.random.randint(1,20,[4,4])\n",
    "\n",
    "a = np.array([[2, -1, 3], [1, -3, -2], [3, 2, -1]])\n",
    "\n",
    "# Dependent variable vector\n",
    "#b = np.array([4,9,12,7])\n",
    "b = np.array([9, 0, -1])\n",
    "\n",
    "# solution\n",
    "x = np.linalg.solve(a,b)\n",
    "print('Coefficient Matrix')\n",
    "print(a)\n",
    "print('\\nDependent Variable vector')\n",
    "print(b)\n",
    "print('\\nSolution')\n",
    "print(x) "
   ]
  },
  {
   "cell_type": "code",
   "execution_count": null,
   "id": "66b44851",
   "metadata": {},
   "outputs": [],
   "source": []
  },
  {
   "cell_type": "code",
   "execution_count": null,
   "id": "91878787",
   "metadata": {},
   "outputs": [],
   "source": []
  }
 ],
 "metadata": {
  "kernelspec": {
   "display_name": "Python 3 (ipykernel)",
   "language": "python",
   "name": "python3"
  },
  "language_info": {
   "codemirror_mode": {
    "name": "ipython",
    "version": 3
   },
   "file_extension": ".py",
   "mimetype": "text/x-python",
   "name": "python",
   "nbconvert_exporter": "python",
   "pygments_lexer": "ipython3",
   "version": "3.10.9"
  }
 },
 "nbformat": 4,
 "nbformat_minor": 5
}
